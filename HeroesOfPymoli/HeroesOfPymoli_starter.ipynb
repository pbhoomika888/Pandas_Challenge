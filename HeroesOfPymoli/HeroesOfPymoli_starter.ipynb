{
 "cells": [
  {
   "cell_type": "markdown",
   "metadata": {},
   "source": [
    "### Note\n",
    "* Instructions have been included for each segment. You do not have to follow them exactly, but they are included to help you think through the steps."
   ]
  },
  {
   "cell_type": "code",
   "execution_count": 1,
   "metadata": {},
   "outputs": [
    {
     "data": {
      "text/html": [
       "<div>\n",
       "<style scoped>\n",
       "    .dataframe tbody tr th:only-of-type {\n",
       "        vertical-align: middle;\n",
       "    }\n",
       "\n",
       "    .dataframe tbody tr th {\n",
       "        vertical-align: top;\n",
       "    }\n",
       "\n",
       "    .dataframe thead th {\n",
       "        text-align: right;\n",
       "    }\n",
       "</style>\n",
       "<table border=\"1\" class=\"dataframe\">\n",
       "  <thead>\n",
       "    <tr style=\"text-align: right;\">\n",
       "      <th></th>\n",
       "      <th>Purchase ID</th>\n",
       "      <th>SN</th>\n",
       "      <th>Age</th>\n",
       "      <th>Gender</th>\n",
       "      <th>Item ID</th>\n",
       "      <th>Item Name</th>\n",
       "      <th>Price</th>\n",
       "    </tr>\n",
       "  </thead>\n",
       "  <tbody>\n",
       "    <tr>\n",
       "      <td>0</td>\n",
       "      <td>0</td>\n",
       "      <td>Lisim78</td>\n",
       "      <td>20</td>\n",
       "      <td>Male</td>\n",
       "      <td>108</td>\n",
       "      <td>Extraction, Quickblade Of Trembling Hands</td>\n",
       "      <td>3.53</td>\n",
       "    </tr>\n",
       "    <tr>\n",
       "      <td>1</td>\n",
       "      <td>1</td>\n",
       "      <td>Lisovynya38</td>\n",
       "      <td>40</td>\n",
       "      <td>Male</td>\n",
       "      <td>143</td>\n",
       "      <td>Frenzied Scimitar</td>\n",
       "      <td>1.56</td>\n",
       "    </tr>\n",
       "    <tr>\n",
       "      <td>2</td>\n",
       "      <td>2</td>\n",
       "      <td>Ithergue48</td>\n",
       "      <td>24</td>\n",
       "      <td>Male</td>\n",
       "      <td>92</td>\n",
       "      <td>Final Critic</td>\n",
       "      <td>4.88</td>\n",
       "    </tr>\n",
       "    <tr>\n",
       "      <td>3</td>\n",
       "      <td>3</td>\n",
       "      <td>Chamassasya86</td>\n",
       "      <td>24</td>\n",
       "      <td>Male</td>\n",
       "      <td>100</td>\n",
       "      <td>Blindscythe</td>\n",
       "      <td>3.27</td>\n",
       "    </tr>\n",
       "    <tr>\n",
       "      <td>4</td>\n",
       "      <td>4</td>\n",
       "      <td>Iskosia90</td>\n",
       "      <td>23</td>\n",
       "      <td>Male</td>\n",
       "      <td>131</td>\n",
       "      <td>Fury</td>\n",
       "      <td>1.44</td>\n",
       "    </tr>\n",
       "  </tbody>\n",
       "</table>\n",
       "</div>"
      ],
      "text/plain": [
       "   Purchase ID             SN  Age Gender  Item ID  \\\n",
       "0            0        Lisim78   20   Male      108   \n",
       "1            1    Lisovynya38   40   Male      143   \n",
       "2            2     Ithergue48   24   Male       92   \n",
       "3            3  Chamassasya86   24   Male      100   \n",
       "4            4      Iskosia90   23   Male      131   \n",
       "\n",
       "                                   Item Name  Price  \n",
       "0  Extraction, Quickblade Of Trembling Hands   3.53  \n",
       "1                          Frenzied Scimitar   1.56  \n",
       "2                               Final Critic   4.88  \n",
       "3                                Blindscythe   3.27  \n",
       "4                                       Fury   1.44  "
      ]
     },
     "execution_count": 1,
     "metadata": {},
     "output_type": "execute_result"
    }
   ],
   "source": [
    "# Dependencies and Setup\n",
    "import pandas as pd\n",
    "import numpy as np\n",
    "\n",
    "# File to Load (Remember to Change These)\n",
    "purchase_data = \"Resources/purchase_data.csv\"\n",
    "\n",
    "# Read Purchasing File and store into Pandas data frame\n",
    "purchase_data_df = pd.read_csv(purchase_data)\n",
    "purchase_data_df.head()"
   ]
  },
  {
   "cell_type": "markdown",
   "metadata": {},
   "source": [
    "## Player Count"
   ]
  },
  {
   "cell_type": "markdown",
   "metadata": {},
   "source": [
    "* Display the total number of players\n"
   ]
  },
  {
   "cell_type": "code",
   "execution_count": 2,
   "metadata": {
    "scrolled": true
   },
   "outputs": [
    {
     "data": {
      "text/plain": [
       "576"
      ]
     },
     "execution_count": 2,
     "metadata": {},
     "output_type": "execute_result"
    }
   ],
   "source": [
    "# total number of players\n",
    "numberofplayers = purchase_data_df[\"SN\"].nunique()\n",
    "numberofplayers"
   ]
  },
  {
   "cell_type": "code",
   "execution_count": 3,
   "metadata": {},
   "outputs": [
    {
     "data": {
      "text/html": [
       "<div>\n",
       "<style scoped>\n",
       "    .dataframe tbody tr th:only-of-type {\n",
       "        vertical-align: middle;\n",
       "    }\n",
       "\n",
       "    .dataframe tbody tr th {\n",
       "        vertical-align: top;\n",
       "    }\n",
       "\n",
       "    .dataframe thead th {\n",
       "        text-align: right;\n",
       "    }\n",
       "</style>\n",
       "<table border=\"1\" class=\"dataframe\">\n",
       "  <thead>\n",
       "    <tr style=\"text-align: right;\">\n",
       "      <th></th>\n",
       "      <th>Total Players</th>\n",
       "    </tr>\n",
       "  </thead>\n",
       "  <tbody>\n",
       "    <tr>\n",
       "      <td>0</td>\n",
       "      <td>576</td>\n",
       "    </tr>\n",
       "  </tbody>\n",
       "</table>\n",
       "</div>"
      ],
      "text/plain": [
       "   Total Players\n",
       "0            576"
      ]
     },
     "execution_count": 3,
     "metadata": {},
     "output_type": "execute_result"
    }
   ],
   "source": [
    "# Create a dataframe\n",
    "num_players_df = pd.DataFrame({\"Total Players\":[numberofplayers]})\n",
    "num_players_df"
   ]
  },
  {
   "cell_type": "markdown",
   "metadata": {},
   "source": [
    "## Purchasing Analysis (Total)"
   ]
  },
  {
   "cell_type": "markdown",
   "metadata": {},
   "source": [
    "* Run basic calculations to obtain number of unique items, average price, etc.\n",
    "\n",
    "\n",
    "* Create a summary data frame to hold the results\n",
    "\n",
    "\n",
    "* Optional: give the displayed data cleaner formatting\n",
    "\n",
    "\n",
    "* Display the summary data frame\n"
   ]
  },
  {
   "cell_type": "code",
   "execution_count": 4,
   "metadata": {
    "scrolled": true
   },
   "outputs": [
    {
     "data": {
      "text/plain": [
       "183"
      ]
     },
     "execution_count": 4,
     "metadata": {},
     "output_type": "execute_result"
    }
   ],
   "source": [
    "# Number of unique items\n",
    "#unique_items = purchase_data_pd[\"Item Name\"].value_counts()\n",
    "#unique_items\n",
    "unique_items =len(purchase_data_df[\"Item ID\"].unique())\n",
    "unique_items\n"
   ]
  },
  {
   "cell_type": "code",
   "execution_count": 5,
   "metadata": {},
   "outputs": [
    {
     "data": {
      "text/plain": [
       "3.050987179487176"
      ]
     },
     "execution_count": 5,
     "metadata": {},
     "output_type": "execute_result"
    }
   ],
   "source": [
    "# Average purchase price\n",
    "average = purchase_data_df[\"Price\"].mean()\n",
    "average"
   ]
  },
  {
   "cell_type": "code",
   "execution_count": 6,
   "metadata": {},
   "outputs": [
    {
     "data": {
      "text/plain": [
       "780"
      ]
     },
     "execution_count": 6,
     "metadata": {},
     "output_type": "execute_result"
    }
   ],
   "source": [
    "# Total number of Purchases\n",
    "total = purchase_data_df[\"Purchase ID\"].count()\n",
    "total"
   ]
  },
  {
   "cell_type": "code",
   "execution_count": 7,
   "metadata": {},
   "outputs": [
    {
     "data": {
      "text/plain": [
       "2379.77"
      ]
     },
     "execution_count": 7,
     "metadata": {},
     "output_type": "execute_result"
    }
   ],
   "source": [
    "# Total revenue\n",
    "totalrevenue = purchase_data_df[\"Price\"].sum()\n",
    "totalrevenue"
   ]
  },
  {
   "cell_type": "code",
   "execution_count": 8,
   "metadata": {},
   "outputs": [
    {
     "data": {
      "text/html": [
       "<div>\n",
       "<style scoped>\n",
       "    .dataframe tbody tr th:only-of-type {\n",
       "        vertical-align: middle;\n",
       "    }\n",
       "\n",
       "    .dataframe tbody tr th {\n",
       "        vertical-align: top;\n",
       "    }\n",
       "\n",
       "    .dataframe thead th {\n",
       "        text-align: right;\n",
       "    }\n",
       "</style>\n",
       "<table border=\"1\" class=\"dataframe\">\n",
       "  <thead>\n",
       "    <tr style=\"text-align: right;\">\n",
       "      <th></th>\n",
       "      <th>Number of unique items</th>\n",
       "      <th>Average Price</th>\n",
       "      <th>Number of Purchases</th>\n",
       "      <th>Total Revenue</th>\n",
       "    </tr>\n",
       "  </thead>\n",
       "  <tbody>\n",
       "    <tr>\n",
       "      <td>0</td>\n",
       "      <td>183</td>\n",
       "      <td>3.050987</td>\n",
       "      <td>780</td>\n",
       "      <td>2379.77</td>\n",
       "    </tr>\n",
       "  </tbody>\n",
       "</table>\n",
       "</div>"
      ],
      "text/plain": [
       "   Number of unique items  Average Price  Number of Purchases  Total Revenue\n",
       "0                     183       3.050987                  780        2379.77"
      ]
     },
     "execution_count": 8,
     "metadata": {},
     "output_type": "execute_result"
    }
   ],
   "source": [
    "# Summary data frame\n",
    "summary_table_df = pd.DataFrame({\"Number of unique items\":unique_items, \n",
    "                                  \"Average Price\":average,\n",
    "                                   \"Number of Purchases\":total,\n",
    "                                   \"Total Revenue\":[totalrevenue]})\n",
    "                          \n",
    "summary_table_df"
   ]
  },
  {
   "cell_type": "markdown",
   "metadata": {},
   "source": [
    "## Gender Demographics"
   ]
  },
  {
   "cell_type": "markdown",
   "metadata": {},
   "source": [
    "* Percentage and Count of Male Players\n",
    "\n",
    "\n",
    "* Percentage and Count of Female Players\n",
    "\n",
    "\n",
    "* Percentage and Count of Other / Non-Disclosed\n",
    "\n",
    "\n"
   ]
  },
  {
   "cell_type": "code",
   "execution_count": 9,
   "metadata": {},
   "outputs": [
    {
     "data": {
      "text/plain": [
       "Gender\n",
       "Female                    81\n",
       "Male                     484\n",
       "Other / Non-Disclosed     11\n",
       "Name: SN, dtype: int64"
      ]
     },
     "execution_count": 9,
     "metadata": {},
     "output_type": "execute_result"
    }
   ],
   "source": [
    "# Count of players\n",
    "gender_states = purchase_data_df.groupby(\"Gender\")\n",
    "total_count_gender = gender_states.nunique()[\"SN\"]\n",
    "total_count_gender"
   ]
  },
  {
   "cell_type": "code",
   "execution_count": 10,
   "metadata": {},
   "outputs": [
    {
     "data": {
      "text/plain": [
       "Gender\n",
       "Female                   14.062500\n",
       "Male                     84.027778\n",
       "Other / Non-Disclosed     1.909722\n",
       "Name: SN, dtype: float64"
      ]
     },
     "execution_count": 10,
     "metadata": {},
     "output_type": "execute_result"
    }
   ],
   "source": [
    "# Percentage of players\n",
    "percentage_of_player = total_count_gender/numberofplayers*100\n",
    "percentage_of_player"
   ]
  },
  {
   "cell_type": "code",
   "execution_count": 11,
   "metadata": {},
   "outputs": [
    {
     "data": {
      "text/html": [
       "<style  type=\"text/css\" >\n",
       "</style><table id=\"T_4ad5e440_1ee3_11ea_a635_e442a60b347e\" ><thead>    <tr>        <th class=\"blank level0\" ></th>        <th class=\"col_heading level0 col0\" >Total Count</th>        <th class=\"col_heading level0 col1\" >Percentage of Players</th>    </tr>    <tr>        <th class=\"index_name level0\" >Gender</th>        <th class=\"blank\" ></th>        <th class=\"blank\" ></th>    </tr></thead><tbody>\n",
       "                <tr>\n",
       "                        <th id=\"T_4ad5e440_1ee3_11ea_a635_e442a60b347elevel0_row0\" class=\"row_heading level0 row0\" >Male</th>\n",
       "                        <td id=\"T_4ad5e440_1ee3_11ea_a635_e442a60b347erow0_col0\" class=\"data row0 col0\" >484</td>\n",
       "                        <td id=\"T_4ad5e440_1ee3_11ea_a635_e442a60b347erow0_col1\" class=\"data row0 col1\" >84.03%</td>\n",
       "            </tr>\n",
       "            <tr>\n",
       "                        <th id=\"T_4ad5e440_1ee3_11ea_a635_e442a60b347elevel0_row1\" class=\"row_heading level0 row1\" >Female</th>\n",
       "                        <td id=\"T_4ad5e440_1ee3_11ea_a635_e442a60b347erow1_col0\" class=\"data row1 col0\" >81</td>\n",
       "                        <td id=\"T_4ad5e440_1ee3_11ea_a635_e442a60b347erow1_col1\" class=\"data row1 col1\" >14.06%</td>\n",
       "            </tr>\n",
       "            <tr>\n",
       "                        <th id=\"T_4ad5e440_1ee3_11ea_a635_e442a60b347elevel0_row2\" class=\"row_heading level0 row2\" >Other / Non-Disclosed</th>\n",
       "                        <td id=\"T_4ad5e440_1ee3_11ea_a635_e442a60b347erow2_col0\" class=\"data row2 col0\" >11</td>\n",
       "                        <td id=\"T_4ad5e440_1ee3_11ea_a635_e442a60b347erow2_col1\" class=\"data row2 col1\" >1.91%</td>\n",
       "            </tr>\n",
       "    </tbody></table>"
      ],
      "text/plain": [
       "<pandas.io.formats.style.Styler at 0x2037572cec8>"
      ]
     },
     "execution_count": 11,
     "metadata": {},
     "output_type": "execute_result"
    }
   ],
   "source": [
    "# Gender Demographics Data Frame\n",
    "gender_demo_df = pd.DataFrame({\"Total Count\":total_count_gender, \"Percentage of Players\" : percentage_of_player})\n",
    "gender_demo_df\n",
    "gender_demo_df.sort_values([\"Total Count\"], ascending=False).style.format({\"Percentage of Players\":\"{:.2f}%\"})\n"
   ]
  },
  {
   "cell_type": "markdown",
   "metadata": {},
   "source": [
    "\n",
    "## Purchasing Analysis (Gender)"
   ]
  },
  {
   "cell_type": "markdown",
   "metadata": {},
   "source": [
    "* Run basic calculations to obtain purchase count, avg. purchase price, avg. purchase total per person etc. by gender\n",
    "\n",
    "\n",
    "\n",
    "\n",
    "* Create a summary data frame to hold the results\n",
    "\n",
    "\n",
    "* Optional: give the displayed data cleaner formatting\n",
    "\n",
    "\n",
    "* Display the summary data frame"
   ]
  },
  {
   "cell_type": "code",
   "execution_count": 12,
   "metadata": {},
   "outputs": [
    {
     "data": {
      "text/plain": [
       "652"
      ]
     },
     "execution_count": 12,
     "metadata": {},
     "output_type": "execute_result"
    }
   ],
   "source": [
    "# Count of Male players\n",
    "Male_players = (purchase_data_df[\"Gender\"] == \"Male\").value_counts()\n",
    "Male_players[True]"
   ]
  },
  {
   "cell_type": "code",
   "execution_count": 13,
   "metadata": {},
   "outputs": [
    {
     "data": {
      "text/plain": [
       "113"
      ]
     },
     "execution_count": 13,
     "metadata": {},
     "output_type": "execute_result"
    }
   ],
   "source": [
    "# Count of Female players\n",
    "Female_players = (purchase_data_df[\"Gender\"] == \"Female\").value_counts()\n",
    "Female_players[True]"
   ]
  },
  {
   "cell_type": "code",
   "execution_count": 14,
   "metadata": {},
   "outputs": [
    {
     "data": {
      "text/plain": [
       "15"
      ]
     },
     "execution_count": 14,
     "metadata": {},
     "output_type": "execute_result"
    }
   ],
   "source": [
    "# Count of Non Disclosed/other\n",
    "nondisclosed_players = (purchase_data_df[\"Gender\"] == \"Other / Non-Disclosed\").value_counts()\n",
    "nondisclosed_players[True]"
   ]
  },
  {
   "cell_type": "code",
   "execution_count": 15,
   "metadata": {},
   "outputs": [
    {
     "data": {
      "text/plain": [
       "Gender\n",
       "Female                   113\n",
       "Male                     652\n",
       "Other / Non-Disclosed     15\n",
       "Name: Price, dtype: int64"
      ]
     },
     "execution_count": 15,
     "metadata": {},
     "output_type": "execute_result"
    }
   ],
   "source": [
    "#  Purchase count by gender\n",
    "purchase_count= purchase_data_df.groupby([\"Gender\"]).Price.count()\n",
    "purchase_count"
   ]
  },
  {
   "cell_type": "code",
   "execution_count": 16,
   "metadata": {},
   "outputs": [
    {
     "data": {
      "text/plain": [
       "Gender\n",
       "Female                   3.203009\n",
       "Male                     3.017853\n",
       "Other / Non-Disclosed    3.346000\n",
       "Name: Price, dtype: float64"
      ]
     },
     "execution_count": 16,
     "metadata": {},
     "output_type": "execute_result"
    }
   ],
   "source": [
    "# Average by gender\n",
    "average_gender= purchase_data_df.groupby([\"Gender\"]).Price.mean()\n",
    "average_gender"
   ]
  },
  {
   "cell_type": "code",
   "execution_count": 17,
   "metadata": {},
   "outputs": [
    {
     "data": {
      "text/plain": [
       "Gender\n",
       "Female                    361.94\n",
       "Male                     1967.64\n",
       "Other / Non-Disclosed      50.19\n",
       "Name: Price, dtype: float64"
      ]
     },
     "execution_count": 17,
     "metadata": {},
     "output_type": "execute_result"
    }
   ],
   "source": [
    "# Total Purchase\n",
    "total_purchase = purchase_data_df.groupby([\"Gender\"]).Price.sum()\n",
    "total_purchase"
   ]
  },
  {
   "cell_type": "code",
   "execution_count": 18,
   "metadata": {},
   "outputs": [
    {
     "data": {
      "text/plain": [
       "Gender\n",
       "Female                   4.468395\n",
       "Male                     4.065372\n",
       "Other / Non-Disclosed    4.562727\n",
       "dtype: float64"
      ]
     },
     "execution_count": 18,
     "metadata": {},
     "output_type": "execute_result"
    }
   ],
   "source": [
    "#Average total purchase per person\n",
    "average_per_person = total_purchase/total_count_gender\n",
    "average_per_person"
   ]
  },
  {
   "cell_type": "code",
   "execution_count": 19,
   "metadata": {},
   "outputs": [
    {
     "data": {
      "text/html": [
       "<style  type=\"text/css\" >\n",
       "</style><table id=\"T_4e5c46e4_1ee3_11ea_b01b_e442a60b347e\" ><thead>    <tr>        <th class=\"blank level0\" ></th>        <th class=\"col_heading level0 col0\" >Purchase Count</th>        <th class=\"col_heading level0 col1\" >Average Purchase Price</th>        <th class=\"col_heading level0 col2\" >Total Purchase Value</th>        <th class=\"col_heading level0 col3\" >Average Total purchase per Person</th>    </tr>    <tr>        <th class=\"index_name level0\" >Gender</th>        <th class=\"blank\" ></th>        <th class=\"blank\" ></th>        <th class=\"blank\" ></th>        <th class=\"blank\" ></th>    </tr></thead><tbody>\n",
       "                <tr>\n",
       "                        <th id=\"T_4e5c46e4_1ee3_11ea_b01b_e442a60b347elevel0_row0\" class=\"row_heading level0 row0\" >Female</th>\n",
       "                        <td id=\"T_4e5c46e4_1ee3_11ea_b01b_e442a60b347erow0_col0\" class=\"data row0 col0\" >113</td>\n",
       "                        <td id=\"T_4e5c46e4_1ee3_11ea_b01b_e442a60b347erow0_col1\" class=\"data row0 col1\" >$3.20</td>\n",
       "                        <td id=\"T_4e5c46e4_1ee3_11ea_b01b_e442a60b347erow0_col2\" class=\"data row0 col2\" >$361.94</td>\n",
       "                        <td id=\"T_4e5c46e4_1ee3_11ea_b01b_e442a60b347erow0_col3\" class=\"data row0 col3\" >$4.47</td>\n",
       "            </tr>\n",
       "            <tr>\n",
       "                        <th id=\"T_4e5c46e4_1ee3_11ea_b01b_e442a60b347elevel0_row1\" class=\"row_heading level0 row1\" >Male</th>\n",
       "                        <td id=\"T_4e5c46e4_1ee3_11ea_b01b_e442a60b347erow1_col0\" class=\"data row1 col0\" >652</td>\n",
       "                        <td id=\"T_4e5c46e4_1ee3_11ea_b01b_e442a60b347erow1_col1\" class=\"data row1 col1\" >$3.02</td>\n",
       "                        <td id=\"T_4e5c46e4_1ee3_11ea_b01b_e442a60b347erow1_col2\" class=\"data row1 col2\" >$1,967.64</td>\n",
       "                        <td id=\"T_4e5c46e4_1ee3_11ea_b01b_e442a60b347erow1_col3\" class=\"data row1 col3\" >$4.07</td>\n",
       "            </tr>\n",
       "            <tr>\n",
       "                        <th id=\"T_4e5c46e4_1ee3_11ea_b01b_e442a60b347elevel0_row2\" class=\"row_heading level0 row2\" >Other / Non-Disclosed</th>\n",
       "                        <td id=\"T_4e5c46e4_1ee3_11ea_b01b_e442a60b347erow2_col0\" class=\"data row2 col0\" >15</td>\n",
       "                        <td id=\"T_4e5c46e4_1ee3_11ea_b01b_e442a60b347erow2_col1\" class=\"data row2 col1\" >$3.35</td>\n",
       "                        <td id=\"T_4e5c46e4_1ee3_11ea_b01b_e442a60b347erow2_col2\" class=\"data row2 col2\" >$50.19</td>\n",
       "                        <td id=\"T_4e5c46e4_1ee3_11ea_b01b_e442a60b347erow2_col3\" class=\"data row2 col3\" >$4.56</td>\n",
       "            </tr>\n",
       "    </tbody></table>"
      ],
      "text/plain": [
       "<pandas.io.formats.style.Styler at 0x20375fd6ec8>"
      ]
     },
     "execution_count": 19,
     "metadata": {},
     "output_type": "execute_result"
    }
   ],
   "source": [
    "# Purchasing Analysis dataframe\n",
    "purchasing_analysis_df = pd.DataFrame({\"Purchase Count\": purchase_count,   \n",
    "                                       \"Average Purchase Price\":average_gender,  \n",
    "                                       \"Total Purchase Value\":total_purchase,   \n",
    "                                       \"Average Total purchase per Person\":average_per_person})\n",
    "purchasing_analysis_df\n",
    "purchasing_analysis_df.sort_values([\"Gender\"], ascending=False)\n",
    "purchasing_analysis_df.style.format({\"Average Purchase Price\":\"${:,.2f}\",\n",
    "                                      \"Total Purchase Value\":\"${:,.2f}\",\n",
    "                                       \"Average Total purchase per Person\":\"${:,.2f}\"})"
   ]
  },
  {
   "cell_type": "markdown",
   "metadata": {},
   "source": [
    "## Age Demographics"
   ]
  },
  {
   "cell_type": "markdown",
   "metadata": {},
   "source": [
    "* Establish bins for ages\n",
    "\n",
    "\n",
    "* Categorize the existing players using the age bins. Hint: use pd.cut()\n",
    "\n",
    "\n",
    "* Calculate the numbers and percentages by age group\n",
    "\n",
    "\n",
    "* Create a summary data frame to hold the results\n",
    "\n",
    "\n",
    "* Optional: round the percentage column to two decimal points\n",
    "\n",
    "\n",
    "* Display Age Demographics Table\n"
   ]
  },
  {
   "cell_type": "code",
   "execution_count": 20,
   "metadata": {},
   "outputs": [
    {
     "name": "stdout",
     "output_type": "stream",
     "text": [
      "45\n",
      "7\n"
     ]
    }
   ],
   "source": [
    "print(purchase_data_df[\"Age\"].max())\n",
    "print(purchase_data_df[\"Age\"].min())"
   ]
  },
  {
   "cell_type": "code",
   "execution_count": 21,
   "metadata": {},
   "outputs": [],
   "source": [
    "# Create bins\n",
    "bins = [0,9,14,19,24,29,34,39,100]\n",
    "# Create labels\n",
    "group_labels = [\"<10\", \"10 to 14\",\"15 to 19\",\"20 to 24\",\"25 to 29\",\"30 to 34\",\"35 to 39\",\"40+\"]"
   ]
  },
  {
   "cell_type": "code",
   "execution_count": 22,
   "metadata": {},
   "outputs": [
    {
     "data": {
      "text/html": [
       "<div>\n",
       "<style scoped>\n",
       "    .dataframe tbody tr th:only-of-type {\n",
       "        vertical-align: middle;\n",
       "    }\n",
       "\n",
       "    .dataframe tbody tr th {\n",
       "        vertical-align: top;\n",
       "    }\n",
       "\n",
       "    .dataframe thead th {\n",
       "        text-align: right;\n",
       "    }\n",
       "</style>\n",
       "<table border=\"1\" class=\"dataframe\">\n",
       "  <thead>\n",
       "    <tr style=\"text-align: right;\">\n",
       "      <th></th>\n",
       "      <th>Purchase ID</th>\n",
       "      <th>SN</th>\n",
       "      <th>Age</th>\n",
       "      <th>Gender</th>\n",
       "      <th>Item ID</th>\n",
       "      <th>Item Name</th>\n",
       "      <th>Price</th>\n",
       "      <th>Age Group</th>\n",
       "    </tr>\n",
       "  </thead>\n",
       "  <tbody>\n",
       "    <tr>\n",
       "      <td>0</td>\n",
       "      <td>0</td>\n",
       "      <td>Lisim78</td>\n",
       "      <td>20</td>\n",
       "      <td>Male</td>\n",
       "      <td>108</td>\n",
       "      <td>Extraction, Quickblade Of Trembling Hands</td>\n",
       "      <td>3.53</td>\n",
       "      <td>20 to 24</td>\n",
       "    </tr>\n",
       "    <tr>\n",
       "      <td>1</td>\n",
       "      <td>1</td>\n",
       "      <td>Lisovynya38</td>\n",
       "      <td>40</td>\n",
       "      <td>Male</td>\n",
       "      <td>143</td>\n",
       "      <td>Frenzied Scimitar</td>\n",
       "      <td>1.56</td>\n",
       "      <td>40+</td>\n",
       "    </tr>\n",
       "    <tr>\n",
       "      <td>2</td>\n",
       "      <td>2</td>\n",
       "      <td>Ithergue48</td>\n",
       "      <td>24</td>\n",
       "      <td>Male</td>\n",
       "      <td>92</td>\n",
       "      <td>Final Critic</td>\n",
       "      <td>4.88</td>\n",
       "      <td>20 to 24</td>\n",
       "    </tr>\n",
       "    <tr>\n",
       "      <td>3</td>\n",
       "      <td>3</td>\n",
       "      <td>Chamassasya86</td>\n",
       "      <td>24</td>\n",
       "      <td>Male</td>\n",
       "      <td>100</td>\n",
       "      <td>Blindscythe</td>\n",
       "      <td>3.27</td>\n",
       "      <td>20 to 24</td>\n",
       "    </tr>\n",
       "    <tr>\n",
       "      <td>4</td>\n",
       "      <td>4</td>\n",
       "      <td>Iskosia90</td>\n",
       "      <td>23</td>\n",
       "      <td>Male</td>\n",
       "      <td>131</td>\n",
       "      <td>Fury</td>\n",
       "      <td>1.44</td>\n",
       "      <td>20 to 24</td>\n",
       "    </tr>\n",
       "    <tr>\n",
       "      <td>...</td>\n",
       "      <td>...</td>\n",
       "      <td>...</td>\n",
       "      <td>...</td>\n",
       "      <td>...</td>\n",
       "      <td>...</td>\n",
       "      <td>...</td>\n",
       "      <td>...</td>\n",
       "      <td>...</td>\n",
       "    </tr>\n",
       "    <tr>\n",
       "      <td>775</td>\n",
       "      <td>775</td>\n",
       "      <td>Aethedru70</td>\n",
       "      <td>21</td>\n",
       "      <td>Female</td>\n",
       "      <td>60</td>\n",
       "      <td>Wolf</td>\n",
       "      <td>3.54</td>\n",
       "      <td>20 to 24</td>\n",
       "    </tr>\n",
       "    <tr>\n",
       "      <td>776</td>\n",
       "      <td>776</td>\n",
       "      <td>Iral74</td>\n",
       "      <td>21</td>\n",
       "      <td>Male</td>\n",
       "      <td>164</td>\n",
       "      <td>Exiled Doomblade</td>\n",
       "      <td>1.63</td>\n",
       "      <td>20 to 24</td>\n",
       "    </tr>\n",
       "    <tr>\n",
       "      <td>777</td>\n",
       "      <td>777</td>\n",
       "      <td>Yathecal72</td>\n",
       "      <td>20</td>\n",
       "      <td>Male</td>\n",
       "      <td>67</td>\n",
       "      <td>Celeste, Incarnation of the Corrupted</td>\n",
       "      <td>3.46</td>\n",
       "      <td>20 to 24</td>\n",
       "    </tr>\n",
       "    <tr>\n",
       "      <td>778</td>\n",
       "      <td>778</td>\n",
       "      <td>Sisur91</td>\n",
       "      <td>7</td>\n",
       "      <td>Male</td>\n",
       "      <td>101</td>\n",
       "      <td>Final Critic</td>\n",
       "      <td>4.19</td>\n",
       "      <td>&lt;10</td>\n",
       "    </tr>\n",
       "    <tr>\n",
       "      <td>779</td>\n",
       "      <td>779</td>\n",
       "      <td>Ennrian78</td>\n",
       "      <td>24</td>\n",
       "      <td>Male</td>\n",
       "      <td>50</td>\n",
       "      <td>Dawn</td>\n",
       "      <td>4.60</td>\n",
       "      <td>20 to 24</td>\n",
       "    </tr>\n",
       "  </tbody>\n",
       "</table>\n",
       "<p>780 rows × 8 columns</p>\n",
       "</div>"
      ],
      "text/plain": [
       "     Purchase ID             SN  Age  Gender  Item ID  \\\n",
       "0              0        Lisim78   20    Male      108   \n",
       "1              1    Lisovynya38   40    Male      143   \n",
       "2              2     Ithergue48   24    Male       92   \n",
       "3              3  Chamassasya86   24    Male      100   \n",
       "4              4      Iskosia90   23    Male      131   \n",
       "..           ...            ...  ...     ...      ...   \n",
       "775          775     Aethedru70   21  Female       60   \n",
       "776          776         Iral74   21    Male      164   \n",
       "777          777     Yathecal72   20    Male       67   \n",
       "778          778        Sisur91    7    Male      101   \n",
       "779          779      Ennrian78   24    Male       50   \n",
       "\n",
       "                                     Item Name  Price Age Group  \n",
       "0    Extraction, Quickblade Of Trembling Hands   3.53  20 to 24  \n",
       "1                            Frenzied Scimitar   1.56       40+  \n",
       "2                                 Final Critic   4.88  20 to 24  \n",
       "3                                  Blindscythe   3.27  20 to 24  \n",
       "4                                         Fury   1.44  20 to 24  \n",
       "..                                         ...    ...       ...  \n",
       "775                                       Wolf   3.54  20 to 24  \n",
       "776                           Exiled Doomblade   1.63  20 to 24  \n",
       "777      Celeste, Incarnation of the Corrupted   3.46  20 to 24  \n",
       "778                               Final Critic   4.19       <10  \n",
       "779                                       Dawn   4.60  20 to 24  \n",
       "\n",
       "[780 rows x 8 columns]"
      ]
     },
     "execution_count": 22,
     "metadata": {},
     "output_type": "execute_result"
    }
   ],
   "source": [
    "\n",
    "purchase_data_df[\"Age Group\"] = pd.cut(purchase_data_df[\"Age\"],bins, labels=group_labels)\n",
    "purchase_data_df\n"
   ]
  },
  {
   "cell_type": "code",
   "execution_count": 23,
   "metadata": {},
   "outputs": [],
   "source": [
    "age_group = purchase_data_df.groupby(\"Age Group\")\n"
   ]
  },
  {
   "cell_type": "code",
   "execution_count": 24,
   "metadata": {},
   "outputs": [
    {
     "data": {
      "text/plain": [
       "Age Group\n",
       "<10          17\n",
       "10 to 14     22\n",
       "15 to 19    107\n",
       "20 to 24    258\n",
       "25 to 29     77\n",
       "30 to 34     52\n",
       "35 to 39     31\n",
       "40+          12\n",
       "Name: SN, dtype: int64"
      ]
     },
     "execution_count": 24,
     "metadata": {},
     "output_type": "execute_result"
    }
   ],
   "source": [
    "# total players by age category\n",
    "total_count_age = age_group[\"SN\"].nunique()\n",
    "total_count_age"
   ]
  },
  {
   "cell_type": "code",
   "execution_count": 25,
   "metadata": {},
   "outputs": [
    {
     "data": {
      "text/plain": [
       "Age Group\n",
       "<10          2.951389\n",
       "10 to 14     3.819444\n",
       "15 to 19    18.576389\n",
       "20 to 24    44.791667\n",
       "25 to 29    13.368056\n",
       "30 to 34     9.027778\n",
       "35 to 39     5.381944\n",
       "40+          2.083333\n",
       "Name: SN, dtype: float64"
      ]
     },
     "execution_count": 25,
     "metadata": {},
     "output_type": "execute_result"
    }
   ],
   "source": [
    "# Percentage by age category\n",
    "percentage_age = (total_count_age/numberofplayers)*100\n",
    "percentage_age"
   ]
  },
  {
   "cell_type": "code",
   "execution_count": 26,
   "metadata": {},
   "outputs": [
    {
     "data": {
      "text/html": [
       "<style  type=\"text/css\" >\n",
       "</style><table id=\"T_52300e10_1ee3_11ea_9c30_e442a60b347e\" ><thead>    <tr>        <th class=\"blank level0\" ></th>        <th class=\"col_heading level0 col0\" >Total Count</th>        <th class=\"col_heading level0 col1\" >Percentage of Players</th>    </tr>    <tr>        <th class=\"index_name level0\" >Age Group</th>        <th class=\"blank\" ></th>        <th class=\"blank\" ></th>    </tr></thead><tbody>\n",
       "                <tr>\n",
       "                        <th id=\"T_52300e10_1ee3_11ea_9c30_e442a60b347elevel0_row0\" class=\"row_heading level0 row0\" ><10</th>\n",
       "                        <td id=\"T_52300e10_1ee3_11ea_9c30_e442a60b347erow0_col0\" class=\"data row0 col0\" >17</td>\n",
       "                        <td id=\"T_52300e10_1ee3_11ea_9c30_e442a60b347erow0_col1\" class=\"data row0 col1\" >2.95%</td>\n",
       "            </tr>\n",
       "            <tr>\n",
       "                        <th id=\"T_52300e10_1ee3_11ea_9c30_e442a60b347elevel0_row1\" class=\"row_heading level0 row1\" >10 to 14</th>\n",
       "                        <td id=\"T_52300e10_1ee3_11ea_9c30_e442a60b347erow1_col0\" class=\"data row1 col0\" >22</td>\n",
       "                        <td id=\"T_52300e10_1ee3_11ea_9c30_e442a60b347erow1_col1\" class=\"data row1 col1\" >3.82%</td>\n",
       "            </tr>\n",
       "            <tr>\n",
       "                        <th id=\"T_52300e10_1ee3_11ea_9c30_e442a60b347elevel0_row2\" class=\"row_heading level0 row2\" >15 to 19</th>\n",
       "                        <td id=\"T_52300e10_1ee3_11ea_9c30_e442a60b347erow2_col0\" class=\"data row2 col0\" >107</td>\n",
       "                        <td id=\"T_52300e10_1ee3_11ea_9c30_e442a60b347erow2_col1\" class=\"data row2 col1\" >18.58%</td>\n",
       "            </tr>\n",
       "            <tr>\n",
       "                        <th id=\"T_52300e10_1ee3_11ea_9c30_e442a60b347elevel0_row3\" class=\"row_heading level0 row3\" >20 to 24</th>\n",
       "                        <td id=\"T_52300e10_1ee3_11ea_9c30_e442a60b347erow3_col0\" class=\"data row3 col0\" >258</td>\n",
       "                        <td id=\"T_52300e10_1ee3_11ea_9c30_e442a60b347erow3_col1\" class=\"data row3 col1\" >44.79%</td>\n",
       "            </tr>\n",
       "            <tr>\n",
       "                        <th id=\"T_52300e10_1ee3_11ea_9c30_e442a60b347elevel0_row4\" class=\"row_heading level0 row4\" >25 to 29</th>\n",
       "                        <td id=\"T_52300e10_1ee3_11ea_9c30_e442a60b347erow4_col0\" class=\"data row4 col0\" >77</td>\n",
       "                        <td id=\"T_52300e10_1ee3_11ea_9c30_e442a60b347erow4_col1\" class=\"data row4 col1\" >13.37%</td>\n",
       "            </tr>\n",
       "            <tr>\n",
       "                        <th id=\"T_52300e10_1ee3_11ea_9c30_e442a60b347elevel0_row5\" class=\"row_heading level0 row5\" >30 to 34</th>\n",
       "                        <td id=\"T_52300e10_1ee3_11ea_9c30_e442a60b347erow5_col0\" class=\"data row5 col0\" >52</td>\n",
       "                        <td id=\"T_52300e10_1ee3_11ea_9c30_e442a60b347erow5_col1\" class=\"data row5 col1\" >9.03%</td>\n",
       "            </tr>\n",
       "            <tr>\n",
       "                        <th id=\"T_52300e10_1ee3_11ea_9c30_e442a60b347elevel0_row6\" class=\"row_heading level0 row6\" >35 to 39</th>\n",
       "                        <td id=\"T_52300e10_1ee3_11ea_9c30_e442a60b347erow6_col0\" class=\"data row6 col0\" >31</td>\n",
       "                        <td id=\"T_52300e10_1ee3_11ea_9c30_e442a60b347erow6_col1\" class=\"data row6 col1\" >5.38%</td>\n",
       "            </tr>\n",
       "            <tr>\n",
       "                        <th id=\"T_52300e10_1ee3_11ea_9c30_e442a60b347elevel0_row7\" class=\"row_heading level0 row7\" >40+</th>\n",
       "                        <td id=\"T_52300e10_1ee3_11ea_9c30_e442a60b347erow7_col0\" class=\"data row7 col0\" >12</td>\n",
       "                        <td id=\"T_52300e10_1ee3_11ea_9c30_e442a60b347erow7_col1\" class=\"data row7 col1\" >2.08%</td>\n",
       "            </tr>\n",
       "    </tbody></table>"
      ],
      "text/plain": [
       "<pandas.io.formats.style.Styler at 0x203756dfbc8>"
      ]
     },
     "execution_count": 26,
     "metadata": {},
     "output_type": "execute_result"
    }
   ],
   "source": [
    "# Age demographics dataframe\n",
    "age_demographics_df = pd.DataFrame({\"Total Count\":total_count_age,\n",
    "                                    \"Percentage of Players\":percentage_age})\n",
    "age_demographics_df\n",
    "age_demographics_df.style.format({\"Percentage of Players\":\"{:,.2f}%\"})"
   ]
  },
  {
   "cell_type": "markdown",
   "metadata": {},
   "source": [
    "## Purchasing Analysis (Age)"
   ]
  },
  {
   "cell_type": "markdown",
   "metadata": {},
   "source": [
    "* Bin the purchase_data data frame by age\n",
    "\n",
    "\n",
    "* Run basic calculations to obtain purchase count, avg. purchase price, avg. purchase total per person etc. in the table below\n",
    "\n",
    "\n",
    "* Create a summary data frame to hold the results\n",
    "\n",
    "\n",
    "* Optional: give the displayed data cleaner formatting\n",
    "\n",
    "\n",
    "* Display the summary data frame"
   ]
  },
  {
   "cell_type": "code",
   "execution_count": 27,
   "metadata": {},
   "outputs": [
    {
     "data": {
      "text/plain": [
       "Age Group\n",
       "<10          23\n",
       "10 to 14     28\n",
       "15 to 19    136\n",
       "20 to 24    365\n",
       "25 to 29    101\n",
       "30 to 34     73\n",
       "35 to 39     41\n",
       "40+          13\n",
       "Name: Purchase ID, dtype: int64"
      ]
     },
     "execution_count": 27,
     "metadata": {},
     "output_type": "execute_result"
    }
   ],
   "source": [
    "# Purchase count by age\n",
    "purchase_count_age = age_group[\"Purchase ID\"].count()\n",
    "purchase_count_age"
   ]
  },
  {
   "cell_type": "code",
   "execution_count": 28,
   "metadata": {},
   "outputs": [
    {
     "data": {
      "text/plain": [
       "Age Group\n",
       "<10         3.353478\n",
       "10 to 14    2.956429\n",
       "15 to 19    3.035956\n",
       "20 to 24    3.052219\n",
       "25 to 29    2.900990\n",
       "30 to 34    2.931507\n",
       "35 to 39    3.601707\n",
       "40+         2.941538\n",
       "Name: Price, dtype: float64"
      ]
     },
     "execution_count": 28,
     "metadata": {},
     "output_type": "execute_result"
    }
   ],
   "source": [
    "# Average purchase per price by age\n",
    "ave_purchase_price_age = age_group[\"Price\"].mean()\n",
    "ave_purchase_price_age"
   ]
  },
  {
   "cell_type": "code",
   "execution_count": 29,
   "metadata": {},
   "outputs": [
    {
     "data": {
      "text/plain": [
       "Age Group\n",
       "<10           77.13\n",
       "10 to 14      82.78\n",
       "15 to 19     412.89\n",
       "20 to 24    1114.06\n",
       "25 to 29     293.00\n",
       "30 to 34     214.00\n",
       "35 to 39     147.67\n",
       "40+           38.24\n",
       "Name: Price, dtype: float64"
      ]
     },
     "execution_count": 29,
     "metadata": {},
     "output_type": "execute_result"
    }
   ],
   "source": [
    "# total purchase value by age group\n",
    "total_purchase_value = age_group[\"Price\"].sum() \n",
    "total_purchase_value"
   ]
  },
  {
   "cell_type": "code",
   "execution_count": 30,
   "metadata": {},
   "outputs": [
    {
     "data": {
      "text/plain": [
       "Age Group\n",
       "<10         4.537059\n",
       "10 to 14    3.762727\n",
       "15 to 19    3.858785\n",
       "20 to 24    4.318062\n",
       "25 to 29    3.805195\n",
       "30 to 34    4.115385\n",
       "35 to 39    4.763548\n",
       "40+         3.186667\n",
       "dtype: float64"
      ]
     },
     "execution_count": 30,
     "metadata": {},
     "output_type": "execute_result"
    }
   ],
   "source": [
    "# average purchase per person\n",
    "avg_purchase_per_person = total_purchase_value/total_count_age\n",
    "avg_purchase_per_person"
   ]
  },
  {
   "cell_type": "code",
   "execution_count": 31,
   "metadata": {},
   "outputs": [
    {
     "data": {
      "text/html": [
       "<style  type=\"text/css\" >\n",
       "</style><table id=\"T_55cebde4_1ee3_11ea_bead_e442a60b347e\" ><thead>    <tr>        <th class=\"blank level0\" ></th>        <th class=\"col_heading level0 col0\" >Purchase Count</th>        <th class=\"col_heading level0 col1\" >Average Purchase Price</th>        <th class=\"col_heading level0 col2\" >Total Purchase Value</th>        <th class=\"col_heading level0 col3\" >Avg Total Purchase Per Person</th>    </tr>    <tr>        <th class=\"index_name level0\" >Age Group</th>        <th class=\"blank\" ></th>        <th class=\"blank\" ></th>        <th class=\"blank\" ></th>        <th class=\"blank\" ></th>    </tr></thead><tbody>\n",
       "                <tr>\n",
       "                        <th id=\"T_55cebde4_1ee3_11ea_bead_e442a60b347elevel0_row0\" class=\"row_heading level0 row0\" ><10</th>\n",
       "                        <td id=\"T_55cebde4_1ee3_11ea_bead_e442a60b347erow0_col0\" class=\"data row0 col0\" >23</td>\n",
       "                        <td id=\"T_55cebde4_1ee3_11ea_bead_e442a60b347erow0_col1\" class=\"data row0 col1\" >$3.35</td>\n",
       "                        <td id=\"T_55cebde4_1ee3_11ea_bead_e442a60b347erow0_col2\" class=\"data row0 col2\" >$77.13</td>\n",
       "                        <td id=\"T_55cebde4_1ee3_11ea_bead_e442a60b347erow0_col3\" class=\"data row0 col3\" >$4.54</td>\n",
       "            </tr>\n",
       "            <tr>\n",
       "                        <th id=\"T_55cebde4_1ee3_11ea_bead_e442a60b347elevel0_row1\" class=\"row_heading level0 row1\" >10 to 14</th>\n",
       "                        <td id=\"T_55cebde4_1ee3_11ea_bead_e442a60b347erow1_col0\" class=\"data row1 col0\" >28</td>\n",
       "                        <td id=\"T_55cebde4_1ee3_11ea_bead_e442a60b347erow1_col1\" class=\"data row1 col1\" >$2.96</td>\n",
       "                        <td id=\"T_55cebde4_1ee3_11ea_bead_e442a60b347erow1_col2\" class=\"data row1 col2\" >$82.78</td>\n",
       "                        <td id=\"T_55cebde4_1ee3_11ea_bead_e442a60b347erow1_col3\" class=\"data row1 col3\" >$3.76</td>\n",
       "            </tr>\n",
       "            <tr>\n",
       "                        <th id=\"T_55cebde4_1ee3_11ea_bead_e442a60b347elevel0_row2\" class=\"row_heading level0 row2\" >15 to 19</th>\n",
       "                        <td id=\"T_55cebde4_1ee3_11ea_bead_e442a60b347erow2_col0\" class=\"data row2 col0\" >136</td>\n",
       "                        <td id=\"T_55cebde4_1ee3_11ea_bead_e442a60b347erow2_col1\" class=\"data row2 col1\" >$3.04</td>\n",
       "                        <td id=\"T_55cebde4_1ee3_11ea_bead_e442a60b347erow2_col2\" class=\"data row2 col2\" >$412.89</td>\n",
       "                        <td id=\"T_55cebde4_1ee3_11ea_bead_e442a60b347erow2_col3\" class=\"data row2 col3\" >$3.86</td>\n",
       "            </tr>\n",
       "            <tr>\n",
       "                        <th id=\"T_55cebde4_1ee3_11ea_bead_e442a60b347elevel0_row3\" class=\"row_heading level0 row3\" >20 to 24</th>\n",
       "                        <td id=\"T_55cebde4_1ee3_11ea_bead_e442a60b347erow3_col0\" class=\"data row3 col0\" >365</td>\n",
       "                        <td id=\"T_55cebde4_1ee3_11ea_bead_e442a60b347erow3_col1\" class=\"data row3 col1\" >$3.05</td>\n",
       "                        <td id=\"T_55cebde4_1ee3_11ea_bead_e442a60b347erow3_col2\" class=\"data row3 col2\" >$1,114.06</td>\n",
       "                        <td id=\"T_55cebde4_1ee3_11ea_bead_e442a60b347erow3_col3\" class=\"data row3 col3\" >$4.32</td>\n",
       "            </tr>\n",
       "            <tr>\n",
       "                        <th id=\"T_55cebde4_1ee3_11ea_bead_e442a60b347elevel0_row4\" class=\"row_heading level0 row4\" >25 to 29</th>\n",
       "                        <td id=\"T_55cebde4_1ee3_11ea_bead_e442a60b347erow4_col0\" class=\"data row4 col0\" >101</td>\n",
       "                        <td id=\"T_55cebde4_1ee3_11ea_bead_e442a60b347erow4_col1\" class=\"data row4 col1\" >$2.90</td>\n",
       "                        <td id=\"T_55cebde4_1ee3_11ea_bead_e442a60b347erow4_col2\" class=\"data row4 col2\" >$293.00</td>\n",
       "                        <td id=\"T_55cebde4_1ee3_11ea_bead_e442a60b347erow4_col3\" class=\"data row4 col3\" >$3.81</td>\n",
       "            </tr>\n",
       "            <tr>\n",
       "                        <th id=\"T_55cebde4_1ee3_11ea_bead_e442a60b347elevel0_row5\" class=\"row_heading level0 row5\" >30 to 34</th>\n",
       "                        <td id=\"T_55cebde4_1ee3_11ea_bead_e442a60b347erow5_col0\" class=\"data row5 col0\" >73</td>\n",
       "                        <td id=\"T_55cebde4_1ee3_11ea_bead_e442a60b347erow5_col1\" class=\"data row5 col1\" >$2.93</td>\n",
       "                        <td id=\"T_55cebde4_1ee3_11ea_bead_e442a60b347erow5_col2\" class=\"data row5 col2\" >$214.00</td>\n",
       "                        <td id=\"T_55cebde4_1ee3_11ea_bead_e442a60b347erow5_col3\" class=\"data row5 col3\" >$4.12</td>\n",
       "            </tr>\n",
       "            <tr>\n",
       "                        <th id=\"T_55cebde4_1ee3_11ea_bead_e442a60b347elevel0_row6\" class=\"row_heading level0 row6\" >35 to 39</th>\n",
       "                        <td id=\"T_55cebde4_1ee3_11ea_bead_e442a60b347erow6_col0\" class=\"data row6 col0\" >41</td>\n",
       "                        <td id=\"T_55cebde4_1ee3_11ea_bead_e442a60b347erow6_col1\" class=\"data row6 col1\" >$3.60</td>\n",
       "                        <td id=\"T_55cebde4_1ee3_11ea_bead_e442a60b347erow6_col2\" class=\"data row6 col2\" >$147.67</td>\n",
       "                        <td id=\"T_55cebde4_1ee3_11ea_bead_e442a60b347erow6_col3\" class=\"data row6 col3\" >$4.76</td>\n",
       "            </tr>\n",
       "            <tr>\n",
       "                        <th id=\"T_55cebde4_1ee3_11ea_bead_e442a60b347elevel0_row7\" class=\"row_heading level0 row7\" >40+</th>\n",
       "                        <td id=\"T_55cebde4_1ee3_11ea_bead_e442a60b347erow7_col0\" class=\"data row7 col0\" >13</td>\n",
       "                        <td id=\"T_55cebde4_1ee3_11ea_bead_e442a60b347erow7_col1\" class=\"data row7 col1\" >$2.94</td>\n",
       "                        <td id=\"T_55cebde4_1ee3_11ea_bead_e442a60b347erow7_col2\" class=\"data row7 col2\" >$38.24</td>\n",
       "                        <td id=\"T_55cebde4_1ee3_11ea_bead_e442a60b347erow7_col3\" class=\"data row7 col3\" >$3.19</td>\n",
       "            </tr>\n",
       "    </tbody></table>"
      ],
      "text/plain": [
       "<pandas.io.formats.style.Styler at 0x20375fc6c88>"
      ]
     },
     "execution_count": 31,
     "metadata": {},
     "output_type": "execute_result"
    }
   ],
   "source": [
    "# Purchasing Analysis dataframe\n",
    "purchasing_analysis = pd.DataFrame({\"Purchase Count\":purchase_count_age,\n",
    "                                     \"Average Purchase Price\":ave_purchase_price_age,\n",
    "                                     \"Total Purchase Value\":total_purchase_value,\n",
    "                                      \"Avg Total Purchase Per Person\":avg_purchase_per_person\n",
    "                                   })\n",
    "purchasing_analysis\n",
    "purchasing_analysis.style.format({\"Average Purchase Price\":\"${:,.2f}\",\n",
    "                                      \"Total Purchase Value\":\"${:,.2f}\",\n",
    "                                       \"Avg Total Purchase Per Person\":\"${:,.2f}\"})"
   ]
  },
  {
   "cell_type": "markdown",
   "metadata": {},
   "source": [
    "## Top Spenders"
   ]
  },
  {
   "cell_type": "markdown",
   "metadata": {},
   "source": [
    "* Run basic calculations to obtain the results in the table below\n",
    "\n",
    "\n",
    "* Create a summary data frame to hold the results\n",
    "\n",
    "\n",
    "* Sort the total purchase value column in descending order\n",
    "\n",
    "\n",
    "* Optional: give the displayed data cleaner formatting\n",
    "\n",
    "\n",
    "* Display a preview of the summary data frame\n",
    "\n"
   ]
  },
  {
   "cell_type": "code",
   "execution_count": 32,
   "metadata": {},
   "outputs": [
    {
     "data": {
      "text/plain": [
       "SN\n",
       "Adairialis76     1\n",
       "Adastirin33      1\n",
       "Aeda94           1\n",
       "Aela59           1\n",
       "Aelaria33        1\n",
       "                ..\n",
       "Yathecal82       3\n",
       "Yathedeu43       2\n",
       "Yoishirrala98    1\n",
       "Zhisrisu83       2\n",
       "Zontibe81        3\n",
       "Name: Purchase ID, Length: 576, dtype: int64"
      ]
     },
     "execution_count": 32,
     "metadata": {},
     "output_type": "execute_result"
    }
   ],
   "source": [
    "# Purchase count by spenders\n",
    "spenders = purchase_data_df.groupby(\"SN\")\n",
    "spenders\n",
    "purchase_count_spenders = spenders[\"Purchase ID\"].count()\n",
    "purchase_count_spenders"
   ]
  },
  {
   "cell_type": "code",
   "execution_count": 33,
   "metadata": {},
   "outputs": [
    {
     "data": {
      "text/plain": [
       "SN\n",
       "Adairialis76     2.280000\n",
       "Adastirin33      4.480000\n",
       "Aeda94           4.910000\n",
       "Aela59           4.320000\n",
       "Aelaria33        1.790000\n",
       "                   ...   \n",
       "Yathecal82       2.073333\n",
       "Yathedeu43       3.010000\n",
       "Yoishirrala98    4.580000\n",
       "Zhisrisu83       3.945000\n",
       "Zontibe81        2.676667\n",
       "Name: Price, Length: 576, dtype: float64"
      ]
     },
     "execution_count": 33,
     "metadata": {},
     "output_type": "execute_result"
    }
   ],
   "source": [
    "# Average purchase price by spenders\n",
    "average_purchase_price = spenders[\"Price\"].mean()\n",
    "average_purchase_price"
   ]
  },
  {
   "cell_type": "code",
   "execution_count": 34,
   "metadata": {},
   "outputs": [
    {
     "data": {
      "text/plain": [
       "SN\n",
       "Adairialis76     2.28\n",
       "Adastirin33      4.48\n",
       "Aeda94           4.91\n",
       "Aela59           4.32\n",
       "Aelaria33        1.79\n",
       "                 ... \n",
       "Yathecal82       6.22\n",
       "Yathedeu43       6.02\n",
       "Yoishirrala98    4.58\n",
       "Zhisrisu83       7.89\n",
       "Zontibe81        8.03\n",
       "Name: Price, Length: 576, dtype: float64"
      ]
     },
     "execution_count": 34,
     "metadata": {},
     "output_type": "execute_result"
    }
   ],
   "source": [
    "# total purchase by spenders\n",
    "total_purchase = spenders[\"Price\"].sum()\n",
    "total_purchase"
   ]
  },
  {
   "cell_type": "code",
   "execution_count": 35,
   "metadata": {},
   "outputs": [
    {
     "data": {
      "text/html": [
       "<style  type=\"text/css\" >\n",
       "</style><table id=\"T_590dbd30_1ee3_11ea_b5c6_e442a60b347e\" ><thead>    <tr>        <th class=\"blank level0\" ></th>        <th class=\"col_heading level0 col0\" >Purchase Count</th>        <th class=\"col_heading level0 col1\" >Average Purchase Price</th>        <th class=\"col_heading level0 col2\" >Total Purchase Value</th>    </tr>    <tr>        <th class=\"index_name level0\" >SN</th>        <th class=\"blank\" ></th>        <th class=\"blank\" ></th>        <th class=\"blank\" ></th>    </tr></thead><tbody>\n",
       "                <tr>\n",
       "                        <th id=\"T_590dbd30_1ee3_11ea_b5c6_e442a60b347elevel0_row0\" class=\"row_heading level0 row0\" >Lisosia93</th>\n",
       "                        <td id=\"T_590dbd30_1ee3_11ea_b5c6_e442a60b347erow0_col0\" class=\"data row0 col0\" >5</td>\n",
       "                        <td id=\"T_590dbd30_1ee3_11ea_b5c6_e442a60b347erow0_col1\" class=\"data row0 col1\" >$3.79</td>\n",
       "                        <td id=\"T_590dbd30_1ee3_11ea_b5c6_e442a60b347erow0_col2\" class=\"data row0 col2\" >$18.96</td>\n",
       "            </tr>\n",
       "            <tr>\n",
       "                        <th id=\"T_590dbd30_1ee3_11ea_b5c6_e442a60b347elevel0_row1\" class=\"row_heading level0 row1\" >Idastidru52</th>\n",
       "                        <td id=\"T_590dbd30_1ee3_11ea_b5c6_e442a60b347erow1_col0\" class=\"data row1 col0\" >4</td>\n",
       "                        <td id=\"T_590dbd30_1ee3_11ea_b5c6_e442a60b347erow1_col1\" class=\"data row1 col1\" >$3.86</td>\n",
       "                        <td id=\"T_590dbd30_1ee3_11ea_b5c6_e442a60b347erow1_col2\" class=\"data row1 col2\" >$15.45</td>\n",
       "            </tr>\n",
       "            <tr>\n",
       "                        <th id=\"T_590dbd30_1ee3_11ea_b5c6_e442a60b347elevel0_row2\" class=\"row_heading level0 row2\" >Chamjask73</th>\n",
       "                        <td id=\"T_590dbd30_1ee3_11ea_b5c6_e442a60b347erow2_col0\" class=\"data row2 col0\" >3</td>\n",
       "                        <td id=\"T_590dbd30_1ee3_11ea_b5c6_e442a60b347erow2_col1\" class=\"data row2 col1\" >$4.61</td>\n",
       "                        <td id=\"T_590dbd30_1ee3_11ea_b5c6_e442a60b347erow2_col2\" class=\"data row2 col2\" >$13.83</td>\n",
       "            </tr>\n",
       "            <tr>\n",
       "                        <th id=\"T_590dbd30_1ee3_11ea_b5c6_e442a60b347elevel0_row3\" class=\"row_heading level0 row3\" >Iral74</th>\n",
       "                        <td id=\"T_590dbd30_1ee3_11ea_b5c6_e442a60b347erow3_col0\" class=\"data row3 col0\" >4</td>\n",
       "                        <td id=\"T_590dbd30_1ee3_11ea_b5c6_e442a60b347erow3_col1\" class=\"data row3 col1\" >$3.40</td>\n",
       "                        <td id=\"T_590dbd30_1ee3_11ea_b5c6_e442a60b347erow3_col2\" class=\"data row3 col2\" >$13.62</td>\n",
       "            </tr>\n",
       "            <tr>\n",
       "                        <th id=\"T_590dbd30_1ee3_11ea_b5c6_e442a60b347elevel0_row4\" class=\"row_heading level0 row4\" >Iskadarya95</th>\n",
       "                        <td id=\"T_590dbd30_1ee3_11ea_b5c6_e442a60b347erow4_col0\" class=\"data row4 col0\" >3</td>\n",
       "                        <td id=\"T_590dbd30_1ee3_11ea_b5c6_e442a60b347erow4_col1\" class=\"data row4 col1\" >$4.37</td>\n",
       "                        <td id=\"T_590dbd30_1ee3_11ea_b5c6_e442a60b347erow4_col2\" class=\"data row4 col2\" >$13.10</td>\n",
       "            </tr>\n",
       "    </tbody></table>"
      ],
      "text/plain": [
       "<pandas.io.formats.style.Styler at 0x20375f43b08>"
      ]
     },
     "execution_count": 35,
     "metadata": {},
     "output_type": "execute_result"
    }
   ],
   "source": [
    "# spenders dataframe\n",
    "spenders_df = pd.DataFrame({\"Purchase Count\":purchase_count_spenders,\n",
    "                             \"Average Purchase Price\":average_purchase_price,\n",
    "                             \"Total Purchase Value\":total_purchase})\n",
    "spenders_df\n",
    "format_spenders = spenders_df.sort_values([\"Total Purchase Value\"],ascending=False).head()\n",
    "format_spenders.style.format({\"Average Purchase Price\":\"${:,.2f}\",\n",
    "                                      \"Total Purchase Value\":\"${:,.2f}\",\n",
    "                            })"
   ]
  },
  {
   "cell_type": "markdown",
   "metadata": {},
   "source": [
    "## Most Popular Items"
   ]
  },
  {
   "cell_type": "markdown",
   "metadata": {},
   "source": [
    "* Retrieve the Item ID, Item Name, and Item Price columns\n",
    "\n",
    "\n",
    "* Group by Item ID and Item Name. Perform calculations to obtain purchase count, item price, and total purchase value\n",
    "\n",
    "\n",
    "* Create a summary data frame to hold the results\n",
    "\n",
    "\n",
    "* Sort the purchase count column in descending order\n",
    "\n",
    "\n",
    "* Optional: give the displayed data cleaner formatting\n",
    "\n",
    "\n",
    "* Display a preview of the summary data frame\n",
    "\n"
   ]
  },
  {
   "cell_type": "code",
   "execution_count": 36,
   "metadata": {},
   "outputs": [
    {
     "data": {
      "text/html": [
       "<div>\n",
       "<style scoped>\n",
       "    .dataframe tbody tr th:only-of-type {\n",
       "        vertical-align: middle;\n",
       "    }\n",
       "\n",
       "    .dataframe tbody tr th {\n",
       "        vertical-align: top;\n",
       "    }\n",
       "\n",
       "    .dataframe thead th {\n",
       "        text-align: right;\n",
       "    }\n",
       "</style>\n",
       "<table border=\"1\" class=\"dataframe\">\n",
       "  <thead>\n",
       "    <tr style=\"text-align: right;\">\n",
       "      <th></th>\n",
       "      <th>Item ID</th>\n",
       "      <th>Item Name</th>\n",
       "      <th>Price</th>\n",
       "    </tr>\n",
       "  </thead>\n",
       "  <tbody>\n",
       "    <tr>\n",
       "      <td>0</td>\n",
       "      <td>108</td>\n",
       "      <td>Extraction, Quickblade Of Trembling Hands</td>\n",
       "      <td>3.53</td>\n",
       "    </tr>\n",
       "    <tr>\n",
       "      <td>1</td>\n",
       "      <td>143</td>\n",
       "      <td>Frenzied Scimitar</td>\n",
       "      <td>1.56</td>\n",
       "    </tr>\n",
       "    <tr>\n",
       "      <td>2</td>\n",
       "      <td>92</td>\n",
       "      <td>Final Critic</td>\n",
       "      <td>4.88</td>\n",
       "    </tr>\n",
       "    <tr>\n",
       "      <td>3</td>\n",
       "      <td>100</td>\n",
       "      <td>Blindscythe</td>\n",
       "      <td>3.27</td>\n",
       "    </tr>\n",
       "    <tr>\n",
       "      <td>4</td>\n",
       "      <td>131</td>\n",
       "      <td>Fury</td>\n",
       "      <td>1.44</td>\n",
       "    </tr>\n",
       "    <tr>\n",
       "      <td>...</td>\n",
       "      <td>...</td>\n",
       "      <td>...</td>\n",
       "      <td>...</td>\n",
       "    </tr>\n",
       "    <tr>\n",
       "      <td>775</td>\n",
       "      <td>60</td>\n",
       "      <td>Wolf</td>\n",
       "      <td>3.54</td>\n",
       "    </tr>\n",
       "    <tr>\n",
       "      <td>776</td>\n",
       "      <td>164</td>\n",
       "      <td>Exiled Doomblade</td>\n",
       "      <td>1.63</td>\n",
       "    </tr>\n",
       "    <tr>\n",
       "      <td>777</td>\n",
       "      <td>67</td>\n",
       "      <td>Celeste, Incarnation of the Corrupted</td>\n",
       "      <td>3.46</td>\n",
       "    </tr>\n",
       "    <tr>\n",
       "      <td>778</td>\n",
       "      <td>101</td>\n",
       "      <td>Final Critic</td>\n",
       "      <td>4.19</td>\n",
       "    </tr>\n",
       "    <tr>\n",
       "      <td>779</td>\n",
       "      <td>50</td>\n",
       "      <td>Dawn</td>\n",
       "      <td>4.60</td>\n",
       "    </tr>\n",
       "  </tbody>\n",
       "</table>\n",
       "<p>780 rows × 3 columns</p>\n",
       "</div>"
      ],
      "text/plain": [
       "     Item ID                                  Item Name  Price\n",
       "0        108  Extraction, Quickblade Of Trembling Hands   3.53\n",
       "1        143                          Frenzied Scimitar   1.56\n",
       "2         92                               Final Critic   4.88\n",
       "3        100                                Blindscythe   3.27\n",
       "4        131                                       Fury   1.44\n",
       "..       ...                                        ...    ...\n",
       "775       60                                       Wolf   3.54\n",
       "776      164                           Exiled Doomblade   1.63\n",
       "777       67      Celeste, Incarnation of the Corrupted   3.46\n",
       "778      101                               Final Critic   4.19\n",
       "779       50                                       Dawn   4.60\n",
       "\n",
       "[780 rows x 3 columns]"
      ]
     },
     "execution_count": 36,
     "metadata": {},
     "output_type": "execute_result"
    }
   ],
   "source": [
    "# Retrive the item id, item name,item price.\n",
    "item = purchase_data_df[[\"Item ID\",\"Item Name\",\"Price\"]]\n",
    "item"
   ]
  },
  {
   "cell_type": "code",
   "execution_count": 37,
   "metadata": {},
   "outputs": [
    {
     "data": {
      "text/plain": [
       "Item ID  Item Name                      \n",
       "0        Splinter                           4\n",
       "1        Crucifer                           3\n",
       "2        Verdict                            6\n",
       "3        Phantomlight                       6\n",
       "4        Bloodlord's Fetish                 5\n",
       "                                           ..\n",
       "179      Wolf, Promise of the Moonwalker    6\n",
       "180      Stormcaller                        1\n",
       "181      Reaper's Toll                      5\n",
       "182      Toothpick                          3\n",
       "183      Dragon's Greatsword                3\n",
       "Name: Price, Length: 183, dtype: int64"
      ]
     },
     "execution_count": 37,
     "metadata": {},
     "output_type": "execute_result"
    }
   ],
   "source": [
    "#Group by item id and item name\n",
    "item_group = item.groupby([\"Item ID\",\"Item Name\"])\n",
    "item_group\n",
    "# Count the num of items\n",
    "purchase_count_item = item_group[\"Price\"].count()\n",
    "purchase_count_item"
   ]
  },
  {
   "cell_type": "code",
   "execution_count": 38,
   "metadata": {},
   "outputs": [
    {
     "data": {
      "text/plain": [
       "Item ID  Item Name                      \n",
       "0        Splinter                            5.12\n",
       "1        Crucifer                            9.78\n",
       "2        Verdict                            14.88\n",
       "3        Phantomlight                       14.94\n",
       "4        Bloodlord's Fetish                  8.50\n",
       "                                            ...  \n",
       "179      Wolf, Promise of the Moonwalker    26.88\n",
       "180      Stormcaller                         3.36\n",
       "181      Reaper's Toll                       8.30\n",
       "182      Toothpick                          12.09\n",
       "183      Dragon's Greatsword                 3.27\n",
       "Name: Price, Length: 183, dtype: float64"
      ]
     },
     "execution_count": 38,
     "metadata": {},
     "output_type": "execute_result"
    }
   ],
   "source": [
    "#Purchase value per item\n",
    "purchase_value_item = item_group[\"Price\"].sum()\n",
    "purchase_value_item"
   ]
  },
  {
   "cell_type": "code",
   "execution_count": 39,
   "metadata": {},
   "outputs": [
    {
     "data": {
      "text/plain": [
       "Item ID  Item Name                      \n",
       "0        Splinter                           1.28\n",
       "1        Crucifer                           3.26\n",
       "2        Verdict                            2.48\n",
       "3        Phantomlight                       2.49\n",
       "4        Bloodlord's Fetish                 1.70\n",
       "                                            ... \n",
       "179      Wolf, Promise of the Moonwalker    4.48\n",
       "180      Stormcaller                        3.36\n",
       "181      Reaper's Toll                      1.66\n",
       "182      Toothpick                          4.03\n",
       "183      Dragon's Greatsword                1.09\n",
       "Name: Price, Length: 183, dtype: float64"
      ]
     },
     "execution_count": 39,
     "metadata": {},
     "output_type": "execute_result"
    }
   ],
   "source": [
    "#  item price\n",
    "item_price = purchase_value_item/purchase_count_item\n",
    "item_price"
   ]
  },
  {
   "cell_type": "code",
   "execution_count": 40,
   "metadata": {},
   "outputs": [
    {
     "data": {
      "text/html": [
       "<style  type=\"text/css\" >\n",
       "</style><table id=\"T_5cc27b3a_1ee3_11ea_ac7a_e442a60b347e\" ><thead>    <tr>        <th class=\"blank\" ></th>        <th class=\"blank level0\" ></th>        <th class=\"col_heading level0 col0\" >Purchase Count</th>        <th class=\"col_heading level0 col1\" >Item Price</th>        <th class=\"col_heading level0 col2\" >Total Purchase Value</th>    </tr>    <tr>        <th class=\"index_name level0\" >Item ID</th>        <th class=\"index_name level1\" >Item Name</th>        <th class=\"blank\" ></th>        <th class=\"blank\" ></th>        <th class=\"blank\" ></th>    </tr></thead><tbody>\n",
       "                <tr>\n",
       "                        <th id=\"T_5cc27b3a_1ee3_11ea_ac7a_e442a60b347elevel0_row0\" class=\"row_heading level0 row0\" >178</th>\n",
       "                        <th id=\"T_5cc27b3a_1ee3_11ea_ac7a_e442a60b347elevel1_row0\" class=\"row_heading level1 row0\" >Oathbreaker, Last Hope of the Breaking Storm</th>\n",
       "                        <td id=\"T_5cc27b3a_1ee3_11ea_ac7a_e442a60b347erow0_col0\" class=\"data row0 col0\" >12</td>\n",
       "                        <td id=\"T_5cc27b3a_1ee3_11ea_ac7a_e442a60b347erow0_col1\" class=\"data row0 col1\" >$4.23</td>\n",
       "                        <td id=\"T_5cc27b3a_1ee3_11ea_ac7a_e442a60b347erow0_col2\" class=\"data row0 col2\" >$50.76</td>\n",
       "            </tr>\n",
       "            <tr>\n",
       "                        <th id=\"T_5cc27b3a_1ee3_11ea_ac7a_e442a60b347elevel0_row1\" class=\"row_heading level0 row1\" >145</th>\n",
       "                        <th id=\"T_5cc27b3a_1ee3_11ea_ac7a_e442a60b347elevel1_row1\" class=\"row_heading level1 row1\" >Fiery Glass Crusader</th>\n",
       "                        <td id=\"T_5cc27b3a_1ee3_11ea_ac7a_e442a60b347erow1_col0\" class=\"data row1 col0\" >9</td>\n",
       "                        <td id=\"T_5cc27b3a_1ee3_11ea_ac7a_e442a60b347erow1_col1\" class=\"data row1 col1\" >$4.58</td>\n",
       "                        <td id=\"T_5cc27b3a_1ee3_11ea_ac7a_e442a60b347erow1_col2\" class=\"data row1 col2\" >$41.22</td>\n",
       "            </tr>\n",
       "            <tr>\n",
       "                        <th id=\"T_5cc27b3a_1ee3_11ea_ac7a_e442a60b347elevel0_row2\" class=\"row_heading level0 row2\" >108</th>\n",
       "                        <th id=\"T_5cc27b3a_1ee3_11ea_ac7a_e442a60b347elevel1_row2\" class=\"row_heading level1 row2\" >Extraction, Quickblade Of Trembling Hands</th>\n",
       "                        <td id=\"T_5cc27b3a_1ee3_11ea_ac7a_e442a60b347erow2_col0\" class=\"data row2 col0\" >9</td>\n",
       "                        <td id=\"T_5cc27b3a_1ee3_11ea_ac7a_e442a60b347erow2_col1\" class=\"data row2 col1\" >$3.53</td>\n",
       "                        <td id=\"T_5cc27b3a_1ee3_11ea_ac7a_e442a60b347erow2_col2\" class=\"data row2 col2\" >$31.77</td>\n",
       "            </tr>\n",
       "            <tr>\n",
       "                        <th id=\"T_5cc27b3a_1ee3_11ea_ac7a_e442a60b347elevel0_row3\" class=\"row_heading level0 row3\" >82</th>\n",
       "                        <th id=\"T_5cc27b3a_1ee3_11ea_ac7a_e442a60b347elevel1_row3\" class=\"row_heading level1 row3\" >Nirvana</th>\n",
       "                        <td id=\"T_5cc27b3a_1ee3_11ea_ac7a_e442a60b347erow3_col0\" class=\"data row3 col0\" >9</td>\n",
       "                        <td id=\"T_5cc27b3a_1ee3_11ea_ac7a_e442a60b347erow3_col1\" class=\"data row3 col1\" >$4.90</td>\n",
       "                        <td id=\"T_5cc27b3a_1ee3_11ea_ac7a_e442a60b347erow3_col2\" class=\"data row3 col2\" >$44.10</td>\n",
       "            </tr>\n",
       "            <tr>\n",
       "                        <th id=\"T_5cc27b3a_1ee3_11ea_ac7a_e442a60b347elevel0_row4\" class=\"row_heading level0 row4\" >19</th>\n",
       "                        <th id=\"T_5cc27b3a_1ee3_11ea_ac7a_e442a60b347elevel1_row4\" class=\"row_heading level1 row4\" >Pursuit, Cudgel of Necromancy</th>\n",
       "                        <td id=\"T_5cc27b3a_1ee3_11ea_ac7a_e442a60b347erow4_col0\" class=\"data row4 col0\" >8</td>\n",
       "                        <td id=\"T_5cc27b3a_1ee3_11ea_ac7a_e442a60b347erow4_col1\" class=\"data row4 col1\" >$1.02</td>\n",
       "                        <td id=\"T_5cc27b3a_1ee3_11ea_ac7a_e442a60b347erow4_col2\" class=\"data row4 col2\" >$8.16</td>\n",
       "            </tr>\n",
       "    </tbody></table>"
      ],
      "text/plain": [
       "<pandas.io.formats.style.Styler at 0x20371e48a08>"
      ]
     },
     "execution_count": 40,
     "metadata": {},
     "output_type": "execute_result"
    }
   ],
   "source": [
    "# most popular item data frame\n",
    "most_popular_item = pd.DataFrame({\"Purchase Count\":purchase_count_item,\n",
    "                                  \"Item Price\":item_price,\n",
    "                                  \"Total Purchase Value\":purchase_value_item})\n",
    "most_popular_item\n",
    "most_popular_format = most_popular_item.sort_values([\"Purchase Count\"],ascending=False).head()\n",
    "most_popular_format\n",
    "most_popular_format.style.format({\"Item Price\":\"${:,.2f}\",\n",
    "                                   \"Total Purchase Value\":\"${:,.2f}\"\n",
    "                                 })"
   ]
  },
  {
   "cell_type": "markdown",
   "metadata": {},
   "source": [
    "## Most Profitable Items"
   ]
  },
  {
   "cell_type": "markdown",
   "metadata": {},
   "source": [
    "* Sort the above table by total purchase value in descending order\n",
    "\n",
    "\n",
    "* Optional: give the displayed data cleaner formatting\n",
    "\n",
    "\n",
    "* Display a preview of the data frame\n",
    "\n"
   ]
  },
  {
   "cell_type": "code",
   "execution_count": 41,
   "metadata": {
    "scrolled": true
   },
   "outputs": [
    {
     "data": {
      "text/html": [
       "<style  type=\"text/css\" >\n",
       "</style><table id=\"T_5ee2b99e_1ee3_11ea_ac0a_e442a60b347e\" ><thead>    <tr>        <th class=\"blank\" ></th>        <th class=\"blank level0\" ></th>        <th class=\"col_heading level0 col0\" >Purchase Count</th>        <th class=\"col_heading level0 col1\" >Item Price</th>        <th class=\"col_heading level0 col2\" >Total Purchase Value</th>    </tr>    <tr>        <th class=\"index_name level0\" >Item ID</th>        <th class=\"index_name level1\" >Item Name</th>        <th class=\"blank\" ></th>        <th class=\"blank\" ></th>        <th class=\"blank\" ></th>    </tr></thead><tbody>\n",
       "                <tr>\n",
       "                        <th id=\"T_5ee2b99e_1ee3_11ea_ac0a_e442a60b347elevel0_row0\" class=\"row_heading level0 row0\" >178</th>\n",
       "                        <th id=\"T_5ee2b99e_1ee3_11ea_ac0a_e442a60b347elevel1_row0\" class=\"row_heading level1 row0\" >Oathbreaker, Last Hope of the Breaking Storm</th>\n",
       "                        <td id=\"T_5ee2b99e_1ee3_11ea_ac0a_e442a60b347erow0_col0\" class=\"data row0 col0\" >12</td>\n",
       "                        <td id=\"T_5ee2b99e_1ee3_11ea_ac0a_e442a60b347erow0_col1\" class=\"data row0 col1\" >$4.23</td>\n",
       "                        <td id=\"T_5ee2b99e_1ee3_11ea_ac0a_e442a60b347erow0_col2\" class=\"data row0 col2\" >$50.76</td>\n",
       "            </tr>\n",
       "            <tr>\n",
       "                        <th id=\"T_5ee2b99e_1ee3_11ea_ac0a_e442a60b347elevel0_row1\" class=\"row_heading level0 row1\" >145</th>\n",
       "                        <th id=\"T_5ee2b99e_1ee3_11ea_ac0a_e442a60b347elevel1_row1\" class=\"row_heading level1 row1\" >Fiery Glass Crusader</th>\n",
       "                        <td id=\"T_5ee2b99e_1ee3_11ea_ac0a_e442a60b347erow1_col0\" class=\"data row1 col0\" >9</td>\n",
       "                        <td id=\"T_5ee2b99e_1ee3_11ea_ac0a_e442a60b347erow1_col1\" class=\"data row1 col1\" >$4.58</td>\n",
       "                        <td id=\"T_5ee2b99e_1ee3_11ea_ac0a_e442a60b347erow1_col2\" class=\"data row1 col2\" >$41.22</td>\n",
       "            </tr>\n",
       "            <tr>\n",
       "                        <th id=\"T_5ee2b99e_1ee3_11ea_ac0a_e442a60b347elevel0_row2\" class=\"row_heading level0 row2\" >108</th>\n",
       "                        <th id=\"T_5ee2b99e_1ee3_11ea_ac0a_e442a60b347elevel1_row2\" class=\"row_heading level1 row2\" >Extraction, Quickblade Of Trembling Hands</th>\n",
       "                        <td id=\"T_5ee2b99e_1ee3_11ea_ac0a_e442a60b347erow2_col0\" class=\"data row2 col0\" >9</td>\n",
       "                        <td id=\"T_5ee2b99e_1ee3_11ea_ac0a_e442a60b347erow2_col1\" class=\"data row2 col1\" >$3.53</td>\n",
       "                        <td id=\"T_5ee2b99e_1ee3_11ea_ac0a_e442a60b347erow2_col2\" class=\"data row2 col2\" >$31.77</td>\n",
       "            </tr>\n",
       "            <tr>\n",
       "                        <th id=\"T_5ee2b99e_1ee3_11ea_ac0a_e442a60b347elevel0_row3\" class=\"row_heading level0 row3\" >82</th>\n",
       "                        <th id=\"T_5ee2b99e_1ee3_11ea_ac0a_e442a60b347elevel1_row3\" class=\"row_heading level1 row3\" >Nirvana</th>\n",
       "                        <td id=\"T_5ee2b99e_1ee3_11ea_ac0a_e442a60b347erow3_col0\" class=\"data row3 col0\" >9</td>\n",
       "                        <td id=\"T_5ee2b99e_1ee3_11ea_ac0a_e442a60b347erow3_col1\" class=\"data row3 col1\" >$4.90</td>\n",
       "                        <td id=\"T_5ee2b99e_1ee3_11ea_ac0a_e442a60b347erow3_col2\" class=\"data row3 col2\" >$44.10</td>\n",
       "            </tr>\n",
       "            <tr>\n",
       "                        <th id=\"T_5ee2b99e_1ee3_11ea_ac0a_e442a60b347elevel0_row4\" class=\"row_heading level0 row4\" >19</th>\n",
       "                        <th id=\"T_5ee2b99e_1ee3_11ea_ac0a_e442a60b347elevel1_row4\" class=\"row_heading level1 row4\" >Pursuit, Cudgel of Necromancy</th>\n",
       "                        <td id=\"T_5ee2b99e_1ee3_11ea_ac0a_e442a60b347erow4_col0\" class=\"data row4 col0\" >8</td>\n",
       "                        <td id=\"T_5ee2b99e_1ee3_11ea_ac0a_e442a60b347erow4_col1\" class=\"data row4 col1\" >$1.02</td>\n",
       "                        <td id=\"T_5ee2b99e_1ee3_11ea_ac0a_e442a60b347erow4_col2\" class=\"data row4 col2\" >$8.16</td>\n",
       "            </tr>\n",
       "    </tbody></table>"
      ],
      "text/plain": [
       "<pandas.io.formats.style.Styler at 0x20375faf648>"
      ]
     },
     "execution_count": 41,
     "metadata": {},
     "output_type": "execute_result"
    }
   ],
   "source": [
    "# most profitable items data frame\n",
    "most_popular_format = most_popular_item.sort_values([\"Purchase Count\"],ascending=False).head()\n",
    "most_popular_format\n",
    "most_popular_format.style.format({\"Item Price\":\"${:,.2f}\",\n",
    "                                   \"Total Purchase Value\":\"${:,.2f}\"\n",
    "                                 })"
   ]
  },
  {
   "cell_type": "code",
   "execution_count": null,
   "metadata": {},
   "outputs": [],
   "source": []
  }
 ],
 "metadata": {
  "anaconda-cloud": {},
  "kernel_info": {
   "name": "python3"
  },
  "kernelspec": {
   "display_name": "Python 3",
   "language": "python",
   "name": "python3"
  },
  "language_info": {
   "codemirror_mode": {
    "name": "ipython",
    "version": 3
   },
   "file_extension": ".py",
   "mimetype": "text/x-python",
   "name": "python",
   "nbconvert_exporter": "python",
   "pygments_lexer": "ipython3",
   "version": "3.7.4"
  },
  "latex_envs": {
   "LaTeX_envs_menu_present": true,
   "autoclose": false,
   "autocomplete": true,
   "bibliofile": "biblio.bib",
   "cite_by": "apalike",
   "current_citInitial": 1,
   "eqLabelWithNumbers": true,
   "eqNumInitial": 1,
   "hotkeys": {
    "equation": "Ctrl-E",
    "itemize": "Ctrl-I"
   },
   "labels_anchors": false,
   "latex_user_defs": false,
   "report_style_numbering": false,
   "user_envs_cfg": false
  },
  "nteract": {
   "version": "0.2.0"
  }
 },
 "nbformat": 4,
 "nbformat_minor": 2
}
